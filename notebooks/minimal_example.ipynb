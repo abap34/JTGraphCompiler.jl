{
 "cells": [
  {
   "cell_type": "code",
   "execution_count": 1,
   "metadata": {},
   "outputs": [],
   "source": [
    "using JITrench"
   ]
  },
  {
   "cell_type": "code",
   "execution_count": 2,
   "metadata": {},
   "outputs": [],
   "source": [
    "abstract type AbstractPlaceHolder end"
   ]
  },
  {
   "cell_type": "code",
   "execution_count": 3,
   "metadata": {},
   "outputs": [],
   "source": [
    "struct FunctionPlaceHolder{T, S} <: JITrench.AutoDiff.DiffableFunction\n",
    "    true_func :: Type{<: JITrench.AutoDiff.DiffableFunction}\n",
    "    inputs :: T\n",
    "    output :: S\n",
    "end"
   ]
  },
  {
   "cell_type": "code",
   "execution_count": 4,
   "metadata": {},
   "outputs": [],
   "source": [
    "struct ConstantScalarNode <: AbstractPlaceHolder end"
   ]
  },
  {
   "cell_type": "code",
   "execution_count": 5,
   "metadata": {},
   "outputs": [],
   "source": [
    "mutable struct ScalarPlaceHolder <: AbstractPlaceHolder\n",
    "    creator::Union{Nothing, JITrench.AutoDiff.DiffableFunction}\n",
    "    generation::Int\n",
    "    req_broadcast::Bool\n",
    "    function ScalarPlaceHolder(; creator=nothing, generation=0, req_broadcast=false)\n",
    "        new(creator, generation, req_broadcast)\n",
    "    end\n",
    "end"
   ]
  },
  {
   "cell_type": "code",
   "execution_count": 6,
   "metadata": {},
   "outputs": [],
   "source": [
    "function Base.show(io::IO, ::MIME\"text/plain\", x::ScalarPlaceHolder)\n",
    "    print(io, \"ScalarPlaceHolder($(objectid(x)))\\n\")\n",
    "end\n",
    "\n",
    "function Base.show(io::IO, x::ScalarPlaceHolder)\n",
    "    print(io, \"ScalarPlaceHolder($(objectid(x)))\\n\")\n",
    "end"
   ]
  },
  {
   "cell_type": "code",
   "execution_count": 7,
   "metadata": {},
   "outputs": [],
   "source": [
    "Base.:+(x1::ScalarPlaceHolder, x2::ScalarPlaceHolder) = call!(ScalarPlaceHolder, JITrench.Add, x1, x2)\n",
    "Base.:+(x1::ScalarPlaceHolder, x2::Real)   = call!(ScalarPlaceHolder, JITrench.Add, x1, ConstantScalarNode())\n",
    "Base.:+(x1::Real, x2::ScalarPlaceHolder)   = call!(ScalarPlaceHolder, JITrench.Add, ConstantScalarNode(), x2)\n",
    "\n",
    "\n",
    "Base.:*(x1::ScalarPlaceHolder, x2::ScalarPlaceHolder) = call!(ScalarPlaceHolder, JITrench.Mul, x1, x2)\n",
    "Base.:*(x1::ScalarPlaceHolder, x2::Real)   = call!(ScalarPlaceHolder, JITrench.Mul, x1, ConstantScalarNode())\n",
    "Base.:*(x1::Real, x2::ScalarPlaceHolder)   = call!(ScalarPlaceHolder, JITrench.Mul, ConstantScalarNode(), x2)"
   ]
  },
  {
   "cell_type": "code",
   "execution_count": 8,
   "metadata": {},
   "outputs": [
    {
     "data": {
      "text/plain": [
       "call! (generic function with 1 method)"
      ]
     },
     "execution_count": 8,
     "metadata": {},
     "output_type": "execute_result"
    }
   ],
   "source": [
    "function call!(::Type{ScalarPlaceHolder}, F::Type{<:JITrench.AutoDiff.BinaryOperator}, x1::ScalarPlaceHolder, x2::ScalarPlaceHolder)\n",
    "    inputs = (x1, x2)\n",
    "    output = ScalarPlaceHolder()\n",
    "    func = FunctionPlaceHolder(F, inputs, output)\n",
    "    output.creator = func\n",
    "    return output\n",
    "end"
   ]
  },
  {
   "cell_type": "code",
   "execution_count": 9,
   "metadata": {},
   "outputs": [
    {
     "data": {
      "text/plain": [
       "ScalarPlaceHolder(9290944774345114273)\n"
      ]
     },
     "execution_count": 9,
     "metadata": {},
     "output_type": "execute_result"
    }
   ],
   "source": [
    "x = ScalarPlaceHolder()\n",
    "y = ScalarPlaceHolder()\n",
    "z = ScalarPlaceHolder()"
   ]
  },
  {
   "cell_type": "code",
   "execution_count": 10,
   "metadata": {},
   "outputs": [
    {
     "data": {
      "text/plain": [
       "ScalarPlaceHolder(5592186642401446651)\n"
      ]
     },
     "execution_count": 10,
     "metadata": {},
     "output_type": "execute_result"
    }
   ],
   "source": [
    "zz = (x + y) * z"
   ]
  },
  {
   "cell_type": "code",
   "execution_count": 11,
   "metadata": {},
   "outputs": [],
   "source": [
    "const tmp_dir = joinpath(expanduser(\"~\"), \".JITrench\")\n",
    "const dot_file_path = joinpath(tmp_dir, \"tmp_graph.dot\");"
   ]
  },
  {
   "cell_type": "code",
   "execution_count": 12,
   "metadata": {},
   "outputs": [
    {
     "data": {
      "text/plain": [
       "Dict{String, String} with 2 entries:\n",
       "  \"user_defined_var\" => \"polygon, sides=8\"\n",
       "  \"var\"              => \"ellipse\""
      ]
     },
     "execution_count": 12,
     "metadata": {},
     "output_type": "execute_result"
    }
   ],
   "source": [
    "colors = Dict(\"func\" => \"lightblue\", \"var\" => \"orange\", \"user_defined_var\" => \"orange\")\n",
    "shapes = Dict(\"var\" => \"ellipse\", \"user_defined_var\" => \"polygon, sides=8\")"
   ]
  },
  {
   "cell_type": "code",
   "execution_count": 13,
   "metadata": {},
   "outputs": [],
   "source": [
    "struct PNGContainer\n",
    "    content\n",
    "end"
   ]
  },
  {
   "cell_type": "code",
   "execution_count": 14,
   "metadata": {},
   "outputs": [],
   "source": [
    "function Base.show(io::IO, ::MIME\"image/png\", c::PNGContainer)\n",
    "    write(io, c.content)\n",
    "end"
   ]
  },
  {
   "cell_type": "code",
   "execution_count": 15,
   "metadata": {},
   "outputs": [
    {
     "data": {
      "text/plain": [
       "_dot_var (generic function with 1 method)"
      ]
     },
     "execution_count": 15,
     "metadata": {},
     "output_type": "execute_result"
    }
   ],
   "source": [
    "function _dot_var(var::ScalarPlaceHolder)\n",
    "    if var.creator === nothing\n",
    "        color = colors[\"user_defined_var\"]\n",
    "        shape = shapes[\"user_defined_var\"]\n",
    "    else\n",
    "        color = colors[\"var\"]\n",
    "        shape = shapes[\"var\"]\n",
    "    end\n",
    "\n",
    "    return \"$(objectid(var)) [shape=$shape, label=\\\"ScalarPlaceHolder\\\", color=\\\"$color\\\", style=filled]\\n\"\n",
    "end"
   ]
  },
  {
   "cell_type": "code",
   "execution_count": 16,
   "metadata": {},
   "outputs": [
    {
     "data": {
      "text/plain": [
       "_dot_func (generic function with 1 method)"
      ]
     },
     "execution_count": 16,
     "metadata": {},
     "output_type": "execute_result"
    }
   ],
   "source": [
    "function _dot_func(f::FunctionPlaceHolder)\n",
    "    f_type = f.true_func\n",
    "    f_name = split(split(repr(f_type), \".\")[end], \"{\")[begin]\n",
    "    txt = \"$(objectid(f)) [label=\\\"$(f_name)\\\", color=\\\"$(colors[\"func\"])\\\", style=filled, shape=box]\\n\"\n",
    "    for x in f.inputs\n",
    "        txt *= \"$(objectid(x)) -> $(objectid(f))\\n\"\n",
    "    end\n",
    "    txt *= \"$(objectid(f)) -> $(objectid(f.output))\\n\"\n",
    "    return txt\n",
    "end"
   ]
  },
  {
   "cell_type": "code",
   "execution_count": 17,
   "metadata": {},
   "outputs": [
    {
     "data": {
      "text/plain": [
       "get_dot_graph (generic function with 1 method)"
      ]
     },
     "execution_count": 17,
     "metadata": {},
     "output_type": "execute_result"
    }
   ],
   "source": [
    "function get_dot_graph(var, title)\n",
    "    txt = \"\"\n",
    "    funcs = []\n",
    "    seen_set = Set{}()\n",
    "    push!(funcs, var.creator)\n",
    "    txt = _dot_var(var)\n",
    "    while !(isempty(funcs))\n",
    "        f = pop!(funcs)\n",
    "        txt *= _dot_func(f)\n",
    "        # TODO: avoid conditional branching by type\n",
    "        if f isa AutoDiff.BroadcastWrapper\n",
    "            for x in f.wrapped_func.grad_field.inputs\n",
    "                txt *= _dot_var(x)\n",
    "                if x.creator !== nothing && (!(x.creator in seen_set))\n",
    "                    push!(seen_set, x.creator)\n",
    "                    push!(funcs, x.creator)\n",
    "                end\n",
    "            end\n",
    "        else\n",
    "            for x in f.inputs\n",
    "                txt *= _dot_var(x)\n",
    "                if x.creator !== nothing && (!(x.creator in seen_set))\n",
    "                    push!(seen_set, x.creator)\n",
    "                    push!(funcs, x.creator)\n",
    "                end\n",
    "            end\n",
    "        end\n",
    "    end\n",
    "    return \"digraph g {\n",
    "            graph [\n",
    "                labelloc=\\\"t\\\";\n",
    "                label= \\\"$(title)\\\"\n",
    "            ];\n",
    "                $txt \n",
    "            }\"\n",
    "end"
   ]
  },
  {
   "cell_type": "code",
   "execution_count": 18,
   "metadata": {},
   "outputs": [
    {
     "data": {
      "text/plain": [
       "plot_tmp_dir (generic function with 1 method)"
      ]
     },
     "execution_count": 18,
     "metadata": {},
     "output_type": "execute_result"
    }
   ],
   "source": [
    "function plot_tmp_dir()\n",
    "    extension = \"png\"\n",
    "    to_file = joinpath(tmp_dir, \"graph.\" * extension)\n",
    "    cmd = `dot $(dot_file_path) -T $(extension) -o $(to_file)`\n",
    "    run(cmd)\n",
    "    return to_file\n",
    "end"
   ]
  },
  {
   "cell_type": "code",
   "execution_count": 19,
   "metadata": {},
   "outputs": [
    {
     "data": {
      "text/plain": [
       "plot_graph (generic function with 1 method)"
      ]
     },
     "execution_count": 19,
     "metadata": {},
     "output_type": "execute_result"
    }
   ],
   "source": [
    "function plot_graph(var; to_file = \"\", title = \"\")\n",
    "    dot_graph = get_dot_graph(var, title)\n",
    "\n",
    "    # make tmp directory to contain .dot \n",
    "    (!(ispath(tmp_dir))) && (mkdir(tmp_dir))\n",
    "\n",
    "    open(dot_file_path, \"w\") do io\n",
    "        write(io, dot_graph)\n",
    "    end\n",
    "\n",
    "    if to_file == \"\"\n",
    "        png_file_path = plot_tmp_dir()\n",
    "        c = open(png_file_path) do io\n",
    "            PNGContainer(read(io))\n",
    "        end\n",
    "        return c\n",
    "    else\n",
    "        extension = split(to_file, \".\")[end]\n",
    "        cmd = `dot $(dot_file_path) -T $(extension) -o $(to_file)`\n",
    "        run(cmd)\n",
    "    end\n",
    "end"
   ]
  },
  {
   "cell_type": "code",
   "execution_count": 20,
   "metadata": {},
   "outputs": [
    {
     "data": {
      "image/png": "[encoded data removed]",
      "text/plain": [
       "PNGContainer(UInt8[0x89, 0x50, 0x4e, 0x47, 0x0d, 0x0a, 0x1a, 0x0a, 0x00, 0x00  …  0x00, 0x00, 0x49, 0x45, 0x4e, 0x44, 0xae, 0x42, 0x60, 0x82])"
      ]
     },
     "execution_count": 20,
     "metadata": {},
     "output_type": "execute_result"
    }
   ],
   "source": [
    "plot_graph(zz)"
   ]
  }
 ],
 "metadata": {
  "kernelspec": {
   "display_name": "Julia 1.8.4",
   "language": "julia",
   "name": "julia-1.8"
  },
  "language_info": {
   "file_extension": ".jl",
   "mimetype": "application/julia",
   "name": "julia",
   "version": "1.8.4"
  },
  "widgets": {
   "application/vnd.jupyter.widget-state+json": {
    "state": {},
    "version_major": 2,
    "version_minor": 0
   }
  }
 },
 "nbformat": 4,
 "nbformat_minor": 4
}
